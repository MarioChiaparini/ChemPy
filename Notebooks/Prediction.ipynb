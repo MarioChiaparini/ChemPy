{
 "cells": [
  {
   "cell_type": "code",
   "execution_count": 1,
   "metadata": {},
   "outputs": [],
   "source": [
    "import pandas as pd\n",
    "import numpy as np\n",
    "import scipy as sc\n",
    "import matplotlib.pyplot as plt"
   ]
  },
  {
   "cell_type": "code",
   "execution_count": 2,
   "metadata": {},
   "outputs": [],
   "source": [
    "# Here pandas library will get the data from the .csv files from /Data/ Path\n",
    "gold532 = pd.read_csv(r'../Data/gold532.csv')\n",
    "gold785 = pd.read_csv(r'../Data/gold785.csv')\n",
    "\n",
    "cooper532 = pd.read_csv(r'../Data/cooper532.csv')\n",
    "cooper785 = pd.read_csv(r'../Data/cooper785.csv')\n",
    "\n",
    "iron532 = pd.read_csv(r'../Data/iron532.csv')\n",
    "iron785 = pd.read_csv(r'../Data/iron785.csv')"
   ]
  },
  {
   "cell_type": "code",
   "execution_count": 3,
   "metadata": {},
   "outputs": [
    {
     "data": {
      "text/plain": [
       "2398"
      ]
     },
     "execution_count": 3,
     "metadata": {},
     "output_type": "execute_result"
    }
   ],
   "source": [
    "len(iron532)"
   ]
  },
  {
   "cell_type": "code",
   "execution_count": 4,
   "metadata": {},
   "outputs": [
    {
     "data": {
      "text/plain": [
       "2356"
      ]
     },
     "execution_count": 4,
     "metadata": {},
     "output_type": "execute_result"
    }
   ],
   "source": [
    "len(iron785)"
   ]
  },
  {
   "cell_type": "code",
   "execution_count": 5,
   "metadata": {},
   "outputs": [
    {
     "data": {
      "text/plain": [
       "2268"
      ]
     },
     "execution_count": 5,
     "metadata": {},
     "output_type": "execute_result"
    }
   ],
   "source": [
    "len(cooper785)"
   ]
  },
  {
   "cell_type": "code",
   "execution_count": 6,
   "metadata": {},
   "outputs": [
    {
     "data": {
      "text/plain": [
       "2268"
      ]
     },
     "execution_count": 6,
     "metadata": {},
     "output_type": "execute_result"
    }
   ],
   "source": [
    "len(cooper532)"
   ]
  },
  {
   "cell_type": "code",
   "execution_count": 7,
   "metadata": {},
   "outputs": [
    {
     "data": {
      "text/plain": [
       "2266"
      ]
     },
     "execution_count": 7,
     "metadata": {},
     "output_type": "execute_result"
    }
   ],
   "source": [
    "len(gold785)"
   ]
  },
  {
   "cell_type": "code",
   "execution_count": 8,
   "metadata": {},
   "outputs": [
    {
     "data": {
      "text/plain": [
       "2323"
      ]
     },
     "execution_count": 8,
     "metadata": {},
     "output_type": "execute_result"
    }
   ],
   "source": [
    "len(gold532)"
   ]
  },
  {
   "cell_type": "code",
   "execution_count": 153,
   "metadata": {},
   "outputs": [
    {
     "data": {
      "text/html": [
       "<div>\n",
       "<style scoped>\n",
       "    .dataframe tbody tr th:only-of-type {\n",
       "        vertical-align: middle;\n",
       "    }\n",
       "\n",
       "    .dataframe tbody tr th {\n",
       "        vertical-align: top;\n",
       "    }\n",
       "\n",
       "    .dataframe thead th {\n",
       "        text-align: right;\n",
       "    }\n",
       "</style>\n",
       "<table border=\"1\" class=\"dataframe\">\n",
       "  <thead>\n",
       "    <tr style=\"text-align: right;\">\n",
       "      <th></th>\n",
       "      <th>I(785)</th>\n",
       "      <th>R(785)</th>\n",
       "      <th>I(532)</th>\n",
       "      <th>R(532)</th>\n",
       "      <th>Mineral</th>\n",
       "    </tr>\n",
       "  </thead>\n",
       "  <tbody>\n",
       "    <tr>\n",
       "      <th>0</th>\n",
       "      <td>140.3041</td>\n",
       "      <td>7484.741</td>\n",
       "      <td>180.5173</td>\n",
       "      <td>3177.573</td>\n",
       "      <td>0</td>\n",
       "    </tr>\n",
       "    <tr>\n",
       "      <th>1</th>\n",
       "      <td>140.7862</td>\n",
       "      <td>7609.544</td>\n",
       "      <td>180.9994</td>\n",
       "      <td>3171.689</td>\n",
       "      <td>0</td>\n",
       "    </tr>\n",
       "    <tr>\n",
       "      <th>2</th>\n",
       "      <td>141.2683</td>\n",
       "      <td>7733.641</td>\n",
       "      <td>181.4815</td>\n",
       "      <td>3171.271</td>\n",
       "      <td>0</td>\n",
       "    </tr>\n",
       "    <tr>\n",
       "      <th>3</th>\n",
       "      <td>141.7504</td>\n",
       "      <td>7841.302</td>\n",
       "      <td>181.9637</td>\n",
       "      <td>3176.253</td>\n",
       "      <td>0</td>\n",
       "    </tr>\n",
       "    <tr>\n",
       "      <th>4</th>\n",
       "      <td>142.2325</td>\n",
       "      <td>7937.369</td>\n",
       "      <td>182.4458</td>\n",
       "      <td>3184.598</td>\n",
       "      <td>0</td>\n",
       "    </tr>\n",
       "    <tr>\n",
       "      <th>...</th>\n",
       "      <td>...</td>\n",
       "      <td>...</td>\n",
       "      <td>...</td>\n",
       "      <td>...</td>\n",
       "      <td>...</td>\n",
       "    </tr>\n",
       "    <tr>\n",
       "      <th>2261</th>\n",
       "      <td>1230.3700</td>\n",
       "      <td>3434.938</td>\n",
       "      <td>1270.5840</td>\n",
       "      <td>6934.427</td>\n",
       "      <td>0</td>\n",
       "    </tr>\n",
       "    <tr>\n",
       "      <th>2262</th>\n",
       "      <td>1230.8520</td>\n",
       "      <td>3431.773</td>\n",
       "      <td>1271.0660</td>\n",
       "      <td>6944.269</td>\n",
       "      <td>0</td>\n",
       "    </tr>\n",
       "    <tr>\n",
       "      <th>2263</th>\n",
       "      <td>1231.3340</td>\n",
       "      <td>3401.855</td>\n",
       "      <td>1271.5480</td>\n",
       "      <td>6947.769</td>\n",
       "      <td>0</td>\n",
       "    </tr>\n",
       "    <tr>\n",
       "      <th>2264</th>\n",
       "      <td>1231.8160</td>\n",
       "      <td>3395.555</td>\n",
       "      <td>1272.0300</td>\n",
       "      <td>6942.078</td>\n",
       "      <td>0</td>\n",
       "    </tr>\n",
       "    <tr>\n",
       "      <th>2265</th>\n",
       "      <td>1232.2980</td>\n",
       "      <td>3414.566</td>\n",
       "      <td>1272.5120</td>\n",
       "      <td>6935.435</td>\n",
       "      <td>0</td>\n",
       "    </tr>\n",
       "  </tbody>\n",
       "</table>\n",
       "<p>2266 rows × 5 columns</p>\n",
       "</div>"
      ],
      "text/plain": [
       "         I(785)    R(785)     I(532)    R(532)  Mineral\n",
       "0      140.3041  7484.741   180.5173  3177.573        0\n",
       "1      140.7862  7609.544   180.9994  3171.689        0\n",
       "2      141.2683  7733.641   181.4815  3171.271        0\n",
       "3      141.7504  7841.302   181.9637  3176.253        0\n",
       "4      142.2325  7937.369   182.4458  3184.598        0\n",
       "...         ...       ...        ...       ...      ...\n",
       "2261  1230.3700  3434.938  1270.5840  6934.427        0\n",
       "2262  1230.8520  3431.773  1271.0660  6944.269        0\n",
       "2263  1231.3340  3401.855  1271.5480  6947.769        0\n",
       "2264  1231.8160  3395.555  1272.0300  6942.078        0\n",
       "2265  1232.2980  3414.566  1272.5120  6935.435        0\n",
       "\n",
       "[2266 rows x 5 columns]"
      ]
     },
     "execution_count": 153,
     "metadata": {},
     "output_type": "execute_result"
    }
   ],
   "source": [
    "# GOLD\n",
    "gold785.columns = ['I(785)','R(785)']\n",
    "gold532.columns = ['I(532)','R(532)']\n",
    "word = pd.Series([0]*2266, name='Mineral')\n",
    "gold = pd.concat([gold785,gold532[:2266],word],axis=1)\n",
    "gold"
   ]
  },
  {
   "cell_type": "code",
   "execution_count": 154,
   "metadata": {},
   "outputs": [
    {
     "data": {
      "text/html": [
       "<div>\n",
       "<style scoped>\n",
       "    .dataframe tbody tr th:only-of-type {\n",
       "        vertical-align: middle;\n",
       "    }\n",
       "\n",
       "    .dataframe tbody tr th {\n",
       "        vertical-align: top;\n",
       "    }\n",
       "\n",
       "    .dataframe thead th {\n",
       "        text-align: right;\n",
       "    }\n",
       "</style>\n",
       "<table border=\"1\" class=\"dataframe\">\n",
       "  <thead>\n",
       "    <tr style=\"text-align: right;\">\n",
       "      <th></th>\n",
       "      <th>I(785)</th>\n",
       "      <th>R(785)</th>\n",
       "      <th>I(532)</th>\n",
       "      <th>R(532)</th>\n",
       "      <th>Mineral</th>\n",
       "    </tr>\n",
       "  </thead>\n",
       "  <tbody>\n",
       "    <tr>\n",
       "      <th>0</th>\n",
       "      <td>107.5201</td>\n",
       "      <td>291.8514</td>\n",
       "      <td>159.3042</td>\n",
       "      <td>1041.511</td>\n",
       "      <td>1</td>\n",
       "    </tr>\n",
       "    <tr>\n",
       "      <th>1</th>\n",
       "      <td>108.0023</td>\n",
       "      <td>307.6280</td>\n",
       "      <td>159.7863</td>\n",
       "      <td>1064.057</td>\n",
       "      <td>1</td>\n",
       "    </tr>\n",
       "    <tr>\n",
       "      <th>2</th>\n",
       "      <td>108.4844</td>\n",
       "      <td>331.1480</td>\n",
       "      <td>160.2684</td>\n",
       "      <td>1081.836</td>\n",
       "      <td>1</td>\n",
       "    </tr>\n",
       "    <tr>\n",
       "      <th>3</th>\n",
       "      <td>108.9665</td>\n",
       "      <td>354.2514</td>\n",
       "      <td>160.7505</td>\n",
       "      <td>1083.984</td>\n",
       "      <td>1</td>\n",
       "    </tr>\n",
       "    <tr>\n",
       "      <th>4</th>\n",
       "      <td>109.4486</td>\n",
       "      <td>373.5468</td>\n",
       "      <td>161.2326</td>\n",
       "      <td>1072.638</td>\n",
       "      <td>1</td>\n",
       "    </tr>\n",
       "    <tr>\n",
       "      <th>...</th>\n",
       "      <td>...</td>\n",
       "      <td>...</td>\n",
       "      <td>...</td>\n",
       "      <td>...</td>\n",
       "      <td>...</td>\n",
       "    </tr>\n",
       "    <tr>\n",
       "      <th>2261</th>\n",
       "      <td>1197.5860</td>\n",
       "      <td>686.3655</td>\n",
       "      <td>1249.3700</td>\n",
       "      <td>3126.399</td>\n",
       "      <td>1</td>\n",
       "    </tr>\n",
       "    <tr>\n",
       "      <th>2262</th>\n",
       "      <td>1198.0680</td>\n",
       "      <td>688.7268</td>\n",
       "      <td>1249.8530</td>\n",
       "      <td>3147.101</td>\n",
       "      <td>1</td>\n",
       "    </tr>\n",
       "    <tr>\n",
       "      <th>2263</th>\n",
       "      <td>1198.5500</td>\n",
       "      <td>691.5933</td>\n",
       "      <td>1250.3350</td>\n",
       "      <td>3151.008</td>\n",
       "      <td>1</td>\n",
       "    </tr>\n",
       "    <tr>\n",
       "      <th>2264</th>\n",
       "      <td>1199.0320</td>\n",
       "      <td>700.5916</td>\n",
       "      <td>1250.8170</td>\n",
       "      <td>3138.981</td>\n",
       "      <td>1</td>\n",
       "    </tr>\n",
       "    <tr>\n",
       "      <th>2265</th>\n",
       "      <td>1199.5140</td>\n",
       "      <td>703.7896</td>\n",
       "      <td>1251.2990</td>\n",
       "      <td>3141.768</td>\n",
       "      <td>1</td>\n",
       "    </tr>\n",
       "  </tbody>\n",
       "</table>\n",
       "<p>2266 rows × 5 columns</p>\n",
       "</div>"
      ],
      "text/plain": [
       "         I(785)    R(785)     I(532)    R(532)  Mineral\n",
       "0      107.5201  291.8514   159.3042  1041.511        1\n",
       "1      108.0023  307.6280   159.7863  1064.057        1\n",
       "2      108.4844  331.1480   160.2684  1081.836        1\n",
       "3      108.9665  354.2514   160.7505  1083.984        1\n",
       "4      109.4486  373.5468   161.2326  1072.638        1\n",
       "...         ...       ...        ...       ...      ...\n",
       "2261  1197.5860  686.3655  1249.3700  3126.399        1\n",
       "2262  1198.0680  688.7268  1249.8530  3147.101        1\n",
       "2263  1198.5500  691.5933  1250.3350  3151.008        1\n",
       "2264  1199.0320  700.5916  1250.8170  3138.981        1\n",
       "2265  1199.5140  703.7896  1251.2990  3141.768        1\n",
       "\n",
       "[2266 rows x 5 columns]"
      ]
     },
     "execution_count": 154,
     "metadata": {},
     "output_type": "execute_result"
    }
   ],
   "source": [
    "# IRON\n",
    "iron785.columns = ['I(785)','R(785)']\n",
    "iron532.columns = ['I(532)','R(532)']\n",
    "word = pd.Series([1]*2266, name='Mineral')\n",
    "iron = pd.concat([iron785[:2266],iron532[:2266],word],axis=1)\n",
    "iron"
   ]
  },
  {
   "cell_type": "code",
   "execution_count": 155,
   "metadata": {},
   "outputs": [
    {
     "data": {
      "text/html": [
       "<div>\n",
       "<style scoped>\n",
       "    .dataframe tbody tr th:only-of-type {\n",
       "        vertical-align: middle;\n",
       "    }\n",
       "\n",
       "    .dataframe tbody tr th {\n",
       "        vertical-align: top;\n",
       "    }\n",
       "\n",
       "    .dataframe thead th {\n",
       "        text-align: right;\n",
       "    }\n",
       "</style>\n",
       "<table border=\"1\" class=\"dataframe\">\n",
       "  <thead>\n",
       "    <tr style=\"text-align: right;\">\n",
       "      <th></th>\n",
       "      <th>I(785)</th>\n",
       "      <th>R(785)</th>\n",
       "      <th>I(532)</th>\n",
       "      <th>R(532)</th>\n",
       "      <th>Mineral</th>\n",
       "    </tr>\n",
       "  </thead>\n",
       "  <tbody>\n",
       "    <tr>\n",
       "      <th>0</th>\n",
       "      <td>190.9469</td>\n",
       "      <td>2065.147</td>\n",
       "      <td>190.9469</td>\n",
       "      <td>2065.147</td>\n",
       "      <td>2</td>\n",
       "    </tr>\n",
       "    <tr>\n",
       "      <th>1</th>\n",
       "      <td>191.4290</td>\n",
       "      <td>2057.434</td>\n",
       "      <td>191.4290</td>\n",
       "      <td>2057.434</td>\n",
       "      <td>2</td>\n",
       "    </tr>\n",
       "    <tr>\n",
       "      <th>2</th>\n",
       "      <td>191.9111</td>\n",
       "      <td>2055.075</td>\n",
       "      <td>191.9111</td>\n",
       "      <td>2055.075</td>\n",
       "      <td>2</td>\n",
       "    </tr>\n",
       "    <tr>\n",
       "      <th>3</th>\n",
       "      <td>192.3932</td>\n",
       "      <td>2059.905</td>\n",
       "      <td>192.3932</td>\n",
       "      <td>2059.905</td>\n",
       "      <td>2</td>\n",
       "    </tr>\n",
       "    <tr>\n",
       "      <th>4</th>\n",
       "      <td>192.8754</td>\n",
       "      <td>2068.416</td>\n",
       "      <td>192.8754</td>\n",
       "      <td>2068.416</td>\n",
       "      <td>2</td>\n",
       "    </tr>\n",
       "    <tr>\n",
       "      <th>...</th>\n",
       "      <td>...</td>\n",
       "      <td>...</td>\n",
       "      <td>...</td>\n",
       "      <td>...</td>\n",
       "      <td>...</td>\n",
       "    </tr>\n",
       "    <tr>\n",
       "      <th>2261</th>\n",
       "      <td>1281.0120</td>\n",
       "      <td>4386.449</td>\n",
       "      <td>1281.0120</td>\n",
       "      <td>4386.449</td>\n",
       "      <td>2</td>\n",
       "    </tr>\n",
       "    <tr>\n",
       "      <th>2262</th>\n",
       "      <td>1281.4940</td>\n",
       "      <td>4378.527</td>\n",
       "      <td>1281.4940</td>\n",
       "      <td>4378.527</td>\n",
       "      <td>2</td>\n",
       "    </tr>\n",
       "    <tr>\n",
       "      <th>2263</th>\n",
       "      <td>1281.9760</td>\n",
       "      <td>4378.564</td>\n",
       "      <td>1281.9760</td>\n",
       "      <td>4378.564</td>\n",
       "      <td>2</td>\n",
       "    </tr>\n",
       "    <tr>\n",
       "      <th>2264</th>\n",
       "      <td>1282.4580</td>\n",
       "      <td>4386.593</td>\n",
       "      <td>1282.4580</td>\n",
       "      <td>4386.593</td>\n",
       "      <td>2</td>\n",
       "    </tr>\n",
       "    <tr>\n",
       "      <th>2265</th>\n",
       "      <td>1282.9400</td>\n",
       "      <td>4390.734</td>\n",
       "      <td>1282.9400</td>\n",
       "      <td>4390.734</td>\n",
       "      <td>2</td>\n",
       "    </tr>\n",
       "  </tbody>\n",
       "</table>\n",
       "<p>2266 rows × 5 columns</p>\n",
       "</div>"
      ],
      "text/plain": [
       "         I(785)    R(785)     I(532)    R(532)  Mineral\n",
       "0      190.9469  2065.147   190.9469  2065.147        2\n",
       "1      191.4290  2057.434   191.4290  2057.434        2\n",
       "2      191.9111  2055.075   191.9111  2055.075        2\n",
       "3      192.3932  2059.905   192.3932  2059.905        2\n",
       "4      192.8754  2068.416   192.8754  2068.416        2\n",
       "...         ...       ...        ...       ...      ...\n",
       "2261  1281.0120  4386.449  1281.0120  4386.449        2\n",
       "2262  1281.4940  4378.527  1281.4940  4378.527        2\n",
       "2263  1281.9760  4378.564  1281.9760  4378.564        2\n",
       "2264  1282.4580  4386.593  1282.4580  4386.593        2\n",
       "2265  1282.9400  4390.734  1282.9400  4390.734        2\n",
       "\n",
       "[2266 rows x 5 columns]"
      ]
     },
     "execution_count": 155,
     "metadata": {},
     "output_type": "execute_result"
    }
   ],
   "source": [
    "# COOPER\n",
    "cooper785.columns = ['I(785)','R(785)']\n",
    "cooper532.columns = ['I(532)','R(532)']\n",
    "word = pd.Series([2]*2266, name='Mineral')\n",
    "cooper = pd.concat([cooper785[:2266],cooper532[:2266],word],axis=1)\n",
    "cooper"
   ]
  },
  {
   "cell_type": "code",
   "execution_count": 233,
   "metadata": {},
   "outputs": [
    {
     "data": {
      "text/html": [
       "<div>\n",
       "<style scoped>\n",
       "    .dataframe tbody tr th:only-of-type {\n",
       "        vertical-align: middle;\n",
       "    }\n",
       "\n",
       "    .dataframe tbody tr th {\n",
       "        vertical-align: top;\n",
       "    }\n",
       "\n",
       "    .dataframe thead th {\n",
       "        text-align: right;\n",
       "    }\n",
       "</style>\n",
       "<table border=\"1\" class=\"dataframe\">\n",
       "  <thead>\n",
       "    <tr style=\"text-align: right;\">\n",
       "      <th></th>\n",
       "      <th>I(785)</th>\n",
       "      <th>R(785)</th>\n",
       "      <th>I(532)</th>\n",
       "      <th>R(532)</th>\n",
       "      <th>Mineral</th>\n",
       "    </tr>\n",
       "  </thead>\n",
       "  <tbody>\n",
       "    <tr>\n",
       "      <th>600</th>\n",
       "      <td>429.5741</td>\n",
       "      <td>4276.895</td>\n",
       "      <td>469.7874</td>\n",
       "      <td>5118.424</td>\n",
       "      <td>0</td>\n",
       "    </tr>\n",
       "    <tr>\n",
       "      <th>601</th>\n",
       "      <td>430.0562</td>\n",
       "      <td>4302.425</td>\n",
       "      <td>470.2696</td>\n",
       "      <td>5147.451</td>\n",
       "      <td>0</td>\n",
       "    </tr>\n",
       "    <tr>\n",
       "      <th>602</th>\n",
       "      <td>430.5383</td>\n",
       "      <td>4316.919</td>\n",
       "      <td>470.7517</td>\n",
       "      <td>5159.998</td>\n",
       "      <td>0</td>\n",
       "    </tr>\n",
       "    <tr>\n",
       "      <th>603</th>\n",
       "      <td>431.0204</td>\n",
       "      <td>4313.686</td>\n",
       "      <td>471.2338</td>\n",
       "      <td>5152.179</td>\n",
       "      <td>0</td>\n",
       "    </tr>\n",
       "    <tr>\n",
       "      <th>604</th>\n",
       "      <td>431.5025</td>\n",
       "      <td>4301.795</td>\n",
       "      <td>471.7159</td>\n",
       "      <td>5139.819</td>\n",
       "      <td>0</td>\n",
       "    </tr>\n",
       "    <tr>\n",
       "      <th>...</th>\n",
       "      <td>...</td>\n",
       "      <td>...</td>\n",
       "      <td>...</td>\n",
       "      <td>...</td>\n",
       "      <td>...</td>\n",
       "    </tr>\n",
       "    <tr>\n",
       "      <th>395</th>\n",
       "      <td>381.3828</td>\n",
       "      <td>2376.637</td>\n",
       "      <td>381.3828</td>\n",
       "      <td>2376.637</td>\n",
       "      <td>2</td>\n",
       "    </tr>\n",
       "    <tr>\n",
       "      <th>396</th>\n",
       "      <td>381.8650</td>\n",
       "      <td>2388.700</td>\n",
       "      <td>381.8650</td>\n",
       "      <td>2388.700</td>\n",
       "      <td>2</td>\n",
       "    </tr>\n",
       "    <tr>\n",
       "      <th>397</th>\n",
       "      <td>382.3471</td>\n",
       "      <td>2396.371</td>\n",
       "      <td>382.3471</td>\n",
       "      <td>2396.371</td>\n",
       "      <td>2</td>\n",
       "    </tr>\n",
       "    <tr>\n",
       "      <th>398</th>\n",
       "      <td>382.8292</td>\n",
       "      <td>2390.845</td>\n",
       "      <td>382.8292</td>\n",
       "      <td>2390.845</td>\n",
       "      <td>2</td>\n",
       "    </tr>\n",
       "    <tr>\n",
       "      <th>399</th>\n",
       "      <td>383.3113</td>\n",
       "      <td>2375.608</td>\n",
       "      <td>383.3113</td>\n",
       "      <td>2375.608</td>\n",
       "      <td>2</td>\n",
       "    </tr>\n",
       "  </tbody>\n",
       "</table>\n",
       "<p>1000 rows × 5 columns</p>\n",
       "</div>"
      ],
      "text/plain": [
       "       I(785)    R(785)    I(532)    R(532)  Mineral\n",
       "600  429.5741  4276.895  469.7874  5118.424        0\n",
       "601  430.0562  4302.425  470.2696  5147.451        0\n",
       "602  430.5383  4316.919  470.7517  5159.998        0\n",
       "603  431.0204  4313.686  471.2338  5152.179        0\n",
       "604  431.5025  4301.795  471.7159  5139.819        0\n",
       "..        ...       ...       ...       ...      ...\n",
       "395  381.3828  2376.637  381.3828  2376.637        2\n",
       "396  381.8650  2388.700  381.8650  2388.700        2\n",
       "397  382.3471  2396.371  382.3471  2396.371        2\n",
       "398  382.8292  2390.845  382.8292  2390.845        2\n",
       "399  383.3113  2375.608  383.3113  2375.608        2\n",
       "\n",
       "[1000 rows x 5 columns]"
      ]
     },
     "execution_count": 233,
     "metadata": {},
     "output_type": "execute_result"
    }
   ],
   "source": [
    "data = pd.concat([gold[600:1000], iron[200:400], cooper[:400]],axis=0)\n",
    "data"
   ]
  },
  {
   "cell_type": "code",
   "execution_count": 318,
   "metadata": {},
   "outputs": [
    {
     "name": "stdout",
     "output_type": "stream",
     "text": [
      "(500, 4)\n",
      "(500,)\n"
     ]
    }
   ],
   "source": [
    "x = data.drop(\"Mineral\", axis=1)\n",
    "y = data[\"Mineral\"]\n",
    "\n",
    "\n",
    "from sklearn.model_selection import train_test_split\n",
    "X_train, X_test, y_train, y_test = train_test_split(x, y,test_size=0.5)\n",
    "print(X_train.shape)\n",
    "print(y_test.shape)"
   ]
  },
  {
   "cell_type": "code",
   "execution_count": 319,
   "metadata": {},
   "outputs": [],
   "source": [
    "from sklearn.neural_network import MLPClassifier"
   ]
  },
  {
   "cell_type": "code",
   "execution_count": 320,
   "metadata": {},
   "outputs": [
    {
     "data": {
      "text/plain": [
       "MLPClassifier(max_iter=500)"
      ]
     },
     "execution_count": 320,
     "metadata": {},
     "output_type": "execute_result"
    }
   ],
   "source": [
    "mlp = MLPClassifier(max_iter=500, activation='relu')\n",
    "mlp"
   ]
  },
  {
   "cell_type": "code",
   "execution_count": 321,
   "metadata": {},
   "outputs": [
    {
     "data": {
      "text/plain": [
       "MLPClassifier(max_iter=500)"
      ]
     },
     "execution_count": 321,
     "metadata": {},
     "output_type": "execute_result"
    }
   ],
   "source": [
    "mlp.fit(X_train,y_train)"
   ]
  },
  {
   "cell_type": "code",
   "execution_count": 322,
   "metadata": {},
   "outputs": [
    {
     "data": {
      "text/plain": [
       "array([2, 2, 0, 2, 2, 1, 1, 2, 1, 2, 0, 0, 0, 2, 0, 0, 2, 2, 0, 1, 1, 2,\n",
       "       2, 1, 0, 2, 0, 0, 0, 0, 1, 2, 0, 1, 0, 0, 0, 1, 2, 2, 1, 0, 2, 2,\n",
       "       2, 0, 0, 2, 1, 2, 1, 2, 0, 0, 0, 2, 0, 2, 0, 1, 0, 2, 0, 2, 0, 0,\n",
       "       2, 2, 2, 2, 2, 0, 1, 2, 2, 1, 0, 2, 2, 0, 0, 2, 0, 2, 1, 0, 2, 0,\n",
       "       1, 2, 2, 1, 0, 2, 2, 2, 0, 0, 0, 2, 0, 1, 2, 0, 0, 2, 2, 0, 0, 2,\n",
       "       0, 2, 1, 2, 2, 0, 0, 2, 2, 1, 0, 2, 2, 0, 0, 0, 0, 2, 0, 2, 1, 2,\n",
       "       2, 0, 0, 2, 0, 0, 0, 1, 1, 1, 1, 0, 0, 2, 2, 0, 2, 0, 1, 0, 1, 2,\n",
       "       1, 2, 1, 0, 0, 0, 0, 0, 2, 0, 2, 1, 2, 0, 0, 0, 1, 0, 0, 2, 2, 0,\n",
       "       0, 2, 0, 0, 2, 1, 1, 2, 0, 2, 0, 0, 1, 2, 2, 2, 2, 2, 0, 1, 2, 1,\n",
       "       2, 0, 2, 0, 0, 0, 0, 2, 0, 2, 1, 0, 0, 2, 2, 0, 0, 1, 0, 2, 2, 0,\n",
       "       1, 2, 2, 1, 0, 2, 1, 1, 1, 2, 0, 2, 0, 0, 2, 0, 0, 0, 1, 2, 1, 2,\n",
       "       0, 0, 0, 1, 1, 1, 2, 0, 0, 2, 2, 2, 2, 0, 0, 2, 2, 0, 2, 2, 0, 2,\n",
       "       1, 0, 1, 2, 0, 2, 2, 0, 1, 2, 2, 0, 1, 2, 1, 0, 1, 0, 2, 0, 2, 2,\n",
       "       0, 2, 0, 1, 0, 0, 2, 0, 0, 0, 2, 0, 2, 2, 0, 0, 0, 1, 0, 0, 2, 0,\n",
       "       0, 0, 2, 2, 2, 1, 0, 0, 0, 1, 2, 0, 1, 0, 2, 2, 1, 2, 0, 1, 0, 1,\n",
       "       0, 2, 1, 0, 2, 0, 2, 0, 0, 2, 2, 2, 2, 0, 2, 2, 1, 2, 2, 0, 2, 0,\n",
       "       0, 1, 2, 2, 1, 0, 2, 2, 2, 1, 2, 2, 0, 0, 0, 0, 2, 2, 1, 0, 2, 2,\n",
       "       0, 1, 0, 0, 2, 2, 2, 2, 2, 0, 2, 1, 2, 0, 2, 2, 0, 2, 0, 0, 0, 2,\n",
       "       0, 2, 2, 2, 2, 0, 0, 2, 2, 2, 1, 0, 1, 2, 2, 2, 2, 0, 2, 2, 2, 0,\n",
       "       2, 1, 2, 0, 0, 1, 0, 2, 2, 0, 0, 2, 0, 0, 0, 0, 0, 1, 0, 0, 2, 1,\n",
       "       2, 2, 2, 0, 0, 0, 1, 0, 2, 1, 0, 2, 0, 1, 0, 2, 1, 2, 1, 2, 2, 2,\n",
       "       1, 0, 2, 0, 0, 2, 0, 0, 2, 0, 2, 2, 1, 2, 2, 2, 1, 0, 0, 0, 0, 0,\n",
       "       1, 2, 2, 1, 0, 0, 1, 2, 0, 1, 2, 0, 0, 2, 0, 2], dtype=int64)"
      ]
     },
     "execution_count": 322,
     "metadata": {},
     "output_type": "execute_result"
    }
   ],
   "source": [
    "pred = mlp.predict(X_test)\n",
    "pred"
   ]
  },
  {
   "cell_type": "code",
   "execution_count": 323,
   "metadata": {},
   "outputs": [
    {
     "data": {
      "text/html": [
       "<div>\n",
       "<style scoped>\n",
       "    .dataframe tbody tr th:only-of-type {\n",
       "        vertical-align: middle;\n",
       "    }\n",
       "\n",
       "    .dataframe tbody tr th {\n",
       "        vertical-align: top;\n",
       "    }\n",
       "\n",
       "    .dataframe thead th {\n",
       "        text-align: right;\n",
       "    }\n",
       "</style>\n",
       "<table border=\"1\" class=\"dataframe\">\n",
       "  <thead>\n",
       "    <tr style=\"text-align: right;\">\n",
       "      <th></th>\n",
       "      <th>I(785)</th>\n",
       "      <th>R(785)</th>\n",
       "      <th>I(532)</th>\n",
       "      <th>R(532)</th>\n",
       "    </tr>\n",
       "  </thead>\n",
       "  <tbody>\n",
       "    <tr>\n",
       "      <th>397</th>\n",
       "      <td>382.3471</td>\n",
       "      <td>2396.371</td>\n",
       "      <td>382.3471</td>\n",
       "      <td>2396.371</td>\n",
       "    </tr>\n",
       "    <tr>\n",
       "      <th>345</th>\n",
       "      <td>357.2770</td>\n",
       "      <td>2313.813</td>\n",
       "      <td>357.2770</td>\n",
       "      <td>2313.813</td>\n",
       "    </tr>\n",
       "    <tr>\n",
       "      <th>810</th>\n",
       "      <td>530.8186</td>\n",
       "      <td>4147.403</td>\n",
       "      <td>571.0320</td>\n",
       "      <td>5727.215</td>\n",
       "    </tr>\n",
       "    <tr>\n",
       "      <th>6</th>\n",
       "      <td>193.8396</td>\n",
       "      <td>2073.536</td>\n",
       "      <td>193.8396</td>\n",
       "      <td>2073.536</td>\n",
       "    </tr>\n",
       "    <tr>\n",
       "      <th>197</th>\n",
       "      <td>285.9238</td>\n",
       "      <td>2198.240</td>\n",
       "      <td>285.9238</td>\n",
       "      <td>2198.240</td>\n",
       "    </tr>\n",
       "    <tr>\n",
       "      <th>...</th>\n",
       "      <td>...</td>\n",
       "      <td>...</td>\n",
       "      <td>...</td>\n",
       "      <td>...</td>\n",
       "    </tr>\n",
       "    <tr>\n",
       "      <th>680</th>\n",
       "      <td>468.1434</td>\n",
       "      <td>4219.031</td>\n",
       "      <td>508.3568</td>\n",
       "      <td>5347.639</td>\n",
       "    </tr>\n",
       "    <tr>\n",
       "      <th>786</th>\n",
       "      <td>519.2478</td>\n",
       "      <td>4199.076</td>\n",
       "      <td>559.4612</td>\n",
       "      <td>5636.174</td>\n",
       "    </tr>\n",
       "    <tr>\n",
       "      <th>371</th>\n",
       "      <td>369.8120</td>\n",
       "      <td>2353.332</td>\n",
       "      <td>369.8120</td>\n",
       "      <td>2353.332</td>\n",
       "    </tr>\n",
       "    <tr>\n",
       "      <th>861</th>\n",
       "      <td>555.4065</td>\n",
       "      <td>4054.525</td>\n",
       "      <td>595.6199</td>\n",
       "      <td>5805.195</td>\n",
       "    </tr>\n",
       "    <tr>\n",
       "      <th>214</th>\n",
       "      <td>294.1198</td>\n",
       "      <td>2238.459</td>\n",
       "      <td>294.1198</td>\n",
       "      <td>2238.459</td>\n",
       "    </tr>\n",
       "  </tbody>\n",
       "</table>\n",
       "<p>500 rows × 4 columns</p>\n",
       "</div>"
      ],
      "text/plain": [
       "       I(785)    R(785)    I(532)    R(532)\n",
       "397  382.3471  2396.371  382.3471  2396.371\n",
       "345  357.2770  2313.813  357.2770  2313.813\n",
       "810  530.8186  4147.403  571.0320  5727.215\n",
       "6    193.8396  2073.536  193.8396  2073.536\n",
       "197  285.9238  2198.240  285.9238  2198.240\n",
       "..        ...       ...       ...       ...\n",
       "680  468.1434  4219.031  508.3568  5347.639\n",
       "786  519.2478  4199.076  559.4612  5636.174\n",
       "371  369.8120  2353.332  369.8120  2353.332\n",
       "861  555.4065  4054.525  595.6199  5805.195\n",
       "214  294.1198  2238.459  294.1198  2238.459\n",
       "\n",
       "[500 rows x 4 columns]"
      ]
     },
     "execution_count": 323,
     "metadata": {},
     "output_type": "execute_result"
    }
   ],
   "source": [
    "X_test"
   ]
  },
  {
   "cell_type": "code",
   "execution_count": 333,
   "metadata": {},
   "outputs": [
    {
     "data": {
      "text/plain": [
       "array([[206,   0,   0],\n",
       "       [  0,  89,   3],\n",
       "       [  0,   0, 202]], dtype=int64)"
      ]
     },
     "execution_count": 333,
     "metadata": {},
     "output_type": "execute_result"
    }
   ],
   "source": [
    "from sklearn.metrics import classification_report,confusion_matrix\n",
    "\n",
    "confusion_matrix(y_test,pred)"
   ]
  },
  {
   "cell_type": "code",
   "execution_count": 335,
   "metadata": {},
   "outputs": [
    {
     "name": "stdout",
     "output_type": "stream",
     "text": [
      "              precision    recall  f1-score   support\n",
      "\n",
      "           0       1.00      1.00      1.00       206\n",
      "           1       1.00      0.97      0.98        92\n",
      "           2       0.99      1.00      0.99       202\n",
      "\n",
      "    accuracy                           0.99       500\n",
      "   macro avg       1.00      0.99      0.99       500\n",
      "weighted avg       0.99      0.99      0.99       500\n",
      "\n"
     ]
    }
   ],
   "source": [
    "print(classification_report(y_test,pred))"
   ]
  }
 ],
 "metadata": {
  "kernelspec": {
   "display_name": "Python 3",
   "language": "python",
   "name": "python3"
  },
  "language_info": {
   "codemirror_mode": {
    "name": "ipython",
    "version": 3
   },
   "file_extension": ".py",
   "mimetype": "text/x-python",
   "name": "python",
   "nbconvert_exporter": "python",
   "pygments_lexer": "ipython3",
   "version": "3.8.5"
  }
 },
 "nbformat": 4,
 "nbformat_minor": 4
}
